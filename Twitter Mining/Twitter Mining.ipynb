{
 "cells": [
  {
   "cell_type": "code",
   "execution_count": null,
   "metadata": {
    "collapsed": true
   },
   "outputs": [],
   "source": []
  },
  {
   "cell_type": "code",
   "execution_count": null,
   "metadata": {
    "collapsed": true
   },
   "outputs": [],
   "source": []
  },
  {
   "cell_type": "code",
   "execution_count": null,
   "metadata": {
    "collapsed": true
   },
   "outputs": [],
   "source": []
  },
  {
   "cell_type": "code",
   "execution_count": 31,
   "metadata": {
    "collapsed": true
   },
   "outputs": [],
   "source": [
    "import tweepy\n",
    "from tweepy import OAuthHandler\n",
    "\n",
    "consumer_key = 'r1ApzHiHqZMTeupo8erTrR3Et'\n",
    "consumer_secret = '3dFoEay7IrRFEvZFA6Jkuc2mGpJ33amoGTJKETfI488YGb5Iy3'\n",
    "access_token = '771287280438968320-BtxwzQApWCF8t19Hzyy4WBCMcpwclIO'\n",
    "access_secret = 'r6NN5lWpxFcLHzJfJME75E4ga5JEYU6kQ9fg8wQ6cHh6v'\n"
   ]
  },
  {
   "cell_type": "code",
   "execution_count": 32,
   "metadata": {
    "collapsed": true
   },
   "outputs": [],
   "source": [
    "auth = OAuthHandler(consumer_key, consumer_secret)\n",
    "auth.set_access_token(access_token, access_secret)\n",
    " \n",
    "api = tweepy.API(auth)\n",
    "\n"
   ]
  },
  {
   "cell_type": "code",
   "execution_count": 36,
   "metadata": {
    "collapsed": false
   },
   "outputs": [
    {
     "name": "stdout",
     "output_type": "stream",
     "text": [
      "PARAMS: {}\n",
      "PARAMS: {'create': b'True'}\n",
      "Another one. Goff hits Kenny Britt for a 6-yd TD. Rams lead the Saints, 14-7. https://t.co/l8P3rkMmcg\n",
      "Donald Trump’s protectionism would hamper growth and stand in the way of the economic boom he promises  https://t.co/r6FGtr7vQN\n",
      "Afghanistan's vice president is accused of assaulting a rival and taking him hostage https://t.co/G6lCowa9Fi https://t.co/kzJRHcO3fe\n",
      "Is running on a treadmill really the same as outdoor running? https://t.co/9SpRaC89Bb\n",
      "As AT&amp;T’s DirecTV Now Streaming Service Is Unveiled, Watch the Details https://t.co/vDorMJj3JR\n",
      "Fidel Castro death: Cuban dissidents call off weekly march https://t.co/Sxex2E5y2P\n",
      "UPDATE: Odell Beckham Jr. (thumb) is questionable to return.\n",
      "T 2455 -SUNDAY well wishers .. and my love to them today especially .. https://t.co/FAcNh2Tsz8\n",
      "Bad news for the Giants as Odell Beckham Jr. heads to the locker room with an apparent arm injury.\n",
      "Gigantopad. Megatablet. Ginormablet? Long a novelty, gigantic tablets are sneaking into the workplace, writes @mims https://t.co/kYdWGWcGPg\n"
     ]
    }
   ],
   "source": [
    "for status in tweepy.Cursor(api.home_timeline).items(10):\n",
    "    # Process a single status\n",
    "    print(status.text)"
   ]
  },
  {
   "cell_type": "code",
   "execution_count": 35,
   "metadata": {
    "collapsed": false
   },
   "outputs": [
    {
     "name": "stdout",
     "output_type": "stream",
     "text": [
      "RT @FrankLuntz: If you praise Fidel Castro, don't expect anyone to take your criticism of Donald Trump seriously.\n",
      "Sentiment(polarity=-0.3333333333333333, subjectivity=0.6666666666666666)\n",
      "\n",
      "RT @DavidYankovich: We hate Donald Trump like you hated President Obama.\n",
      "\n",
      "However, we hate Trump because he is racist, you hated Obama beca…\n",
      "Sentiment(polarity=-0.85, subjectivity=0.8)\n",
      "\n",
      "Mexican consul hits road to calm Trump postelection fears in Washington state https://t.co/pjyxbKC3h5 https://t.co/QmrVzh7t0K\n",
      "Sentiment(polarity=0.15000000000000002, subjectivity=0.375)\n",
      "\n",
      "RT @aravosis: We found Trump's Achilles heel. He's in a meltdown on Twitter over the election recount. His biggest fear is being  illegitim…\n",
      "Sentiment(polarity=0.0, subjectivity=0.0)\n",
      "\n",
      "RT @VA4DJT: Supposedly 5 machines in PA were quarrantined for flipping Trump votes to Killary. Haven't heard another word. Funny! (Not) htt…\n",
      "Sentiment(polarity=0.3125, subjectivity=1.0)\n",
      "\n",
      "RT @chrislhayes: Re: Conway going after Romney, isn't it possible this is sanctioned by Trump and the whole thing has been done to publicly…\n",
      "Sentiment(polarity=0.1, subjectivity=0.7)\n",
      "\n",
      "US Elections: Hold Your Nerves, Trump Outlook May Not Be That Gloomy - https://t.co/XKcmpxVvUb\n",
      "Sentiment(polarity=0.0, subjectivity=0.0)\n",
      "\n",
      "RT @dangillmor: Your daily reminder that Trump's finances, including tax returns, remain a black box. Congress, journalists meekly accept h…\n",
      "Sentiment(polarity=-0.08333333333333333, subjectivity=0.21666666666666667)\n",
      "\n",
      "US elections 2016: Donald Trump thinks “it’s sad” that George W Bush didn’t vote for him - https://t.co/bClvJRKU2X\n",
      "Sentiment(polarity=-0.5, subjectivity=1.0)\n",
      "\n",
      "Tax Policy In The Trump Administration https://t.co/wDgR7Losnd\n",
      "Sentiment(polarity=0.0, subjectivity=0.0)\n",
      "\n",
      "Trump transition team weighing options to fill key cabinet\n",
      "Sentiment(polarity=0.0, subjectivity=1.0)\n",
      "\n",
      "RT @BillKristol: In attacking Romney, Trump courtiers don't criticize his views or claim he wouldn't do a good job as Sec State. Just, he w…\n",
      "Sentiment(polarity=0.3, subjectivity=0.6000000000000001)\n",
      "\n",
      "RT @MichaelGaree: Prez &amp; Dem leadership mostly eerily silent. Our only hope is that they're doing something \"behind the scenes\" to stop Tru…\n",
      "Sentiment(polarity=0.024999999999999994, subjectivity=0.575)\n",
      "\n",
      "RT @DiamondandSilk: .@DiamondandSilk don't take kindly to Jill Stein wanting a recount for states she clearly lost. Donald Trump won so get…\n",
      "Sentiment(polarity=0.35, subjectivity=0.6416666666666666)\n",
      "\n",
      "RT @realDonaldTrump: Trump is going to be our President. We owe him an open mind and the chance to lead.\" So much time and money will be sp…\n",
      "Sentiment(polarity=0.1, subjectivity=0.35)\n",
      "\n"
     ]
    }
   ],
   "source": [
    "for tweet in public_tweets:\n",
    "    print(tweet.text)\n",
    "    \n",
    "    #Step 4 Perform Sentiment Analysis on Tweets\n",
    "    analysis = TextBlob(tweet.text)\n",
    "    print(analysis.sentiment)\n",
    "    print(\"\")"
   ]
  },
  {
   "cell_type": "code",
   "execution_count": 34,
   "metadata": {
    "collapsed": false
   },
   "outputs": [
    {
     "name": "stdout",
     "output_type": "stream",
     "text": [
      "PARAMS: {'q': b'Trump'}\n"
     ]
    }
   ],
   "source": [
    "public_tweets = api.search('Trump')\n"
   ]
  },
  {
   "cell_type": "code",
   "execution_count": 28,
   "metadata": {
    "collapsed": false,
    "scrolled": true
   },
   "outputs": [],
   "source": [
    "from textblob import TextBlob"
   ]
  },
  {
   "cell_type": "code",
   "execution_count": 27,
   "metadata": {
    "collapsed": false
   },
   "outputs": [
    {
     "name": "stdout",
     "output_type": "stream",
     "text": [
      "Collecting textblob\n",
      "  Using cached textblob-0.11.1-py2.py3-none-any.whl\n",
      "Requirement already satisfied (use --upgrade to upgrade): nltk>=3.1 in c:\\users\\shivam panchal\\anaconda3\\lib\\site-packages (from textblob)\n",
      "Installing collected packages: textblob\n",
      "Successfully installed textblob-0.11.1\n"
     ]
    },
    {
     "name": "stderr",
     "output_type": "stream",
     "text": [
      "You are using pip version 8.1.2, however version 9.0.1 is available.\n",
      "You should consider upgrading via the 'python -m pip install --upgrade pip' command.\n"
     ]
    }
   ],
   "source": [
    "import pip    \n",
    "def install(package):\n",
    "   pip.main(['install', package])\n",
    "install('textblob')\n"
   ]
  },
  {
   "cell_type": "code",
   "execution_count": 38,
   "metadata": {
    "collapsed": false
   },
   "outputs": [
    {
     "ename": "SyntaxError",
     "evalue": "invalid syntax (<ipython-input-38-26666e0a9c1e>, line 1)",
     "output_type": "error",
     "traceback": [
      "\u001b[0;36m  File \u001b[0;32m\"<ipython-input-38-26666e0a9c1e>\"\u001b[0;36m, line \u001b[0;32m1\u001b[0m\n\u001b[0;31m    conda install -c https://conda.anaconda.org/sloria textblob\u001b[0m\n\u001b[0m                ^\u001b[0m\n\u001b[0;31mSyntaxError\u001b[0m\u001b[0;31m:\u001b[0m invalid syntax\n"
     ]
    }
   ],
   "source": []
  },
  {
   "cell_type": "code",
   "execution_count": null,
   "metadata": {
    "collapsed": true
   },
   "outputs": [],
   "source": []
  }
 ],
 "metadata": {
  "anaconda-cloud": {},
  "kernelspec": {
   "display_name": "Python [conda root]",
   "language": "python",
   "name": "conda-root-py"
  },
  "language_info": {
   "codemirror_mode": {
    "name": "ipython",
    "version": 3
   },
   "file_extension": ".py",
   "mimetype": "text/x-python",
   "name": "python",
   "nbconvert_exporter": "python",
   "pygments_lexer": "ipython3",
   "version": "3.5.2"
  }
 },
 "nbformat": 4,
 "nbformat_minor": 1
}
